{
 "cells": [
  {
   "cell_type": "code",
   "execution_count": 1,
   "id": "d799363b",
   "metadata": {},
   "outputs": [],
   "source": [
    "import pandas as pd\n",
    "import numpy as np\n",
    "\n",
    "# Load the one-hot encoded dataset from a CSV file\n",
    "encoded_df = pd.read_csv('encoded.csv')"
   ]
  },
  {
   "cell_type": "code",
   "execution_count": 2,
   "id": "2abfdfd5",
   "metadata": {},
   "outputs": [],
   "source": [
    "# Define X as the liked tracks (input features)\n",
    "X = encoded_df.drop(columns=['id', 'lovedtrack_44161'])  # Drop the 'id' column and 'likedtrack_44161' (target track)\n",
    "\n",
    "# Define Y as the target variable (likelihood of a user liking a recommended track)\n",
    "Y = encoded_df['lovedtrack_44161']\n",
    "\n",
    "# Create a new Y variable with all zeroes\n",
    "null_Y = pd.Series(np.zeros(len(Y)), name=Y.name)\n",
    "\n",
    "# Now you can use X and null_Y for training your null classification model"
   ]
  },
  {
   "cell_type": "code",
   "execution_count": 3,
   "id": "e459c568",
   "metadata": {},
   "outputs": [],
   "source": [
    "# Cleans the Y variable\n",
    "Y = Y.fillna(0)\n",
    "Y = Y.replace(2, 1)"
   ]
  },
  {
   "cell_type": "code",
   "execution_count": 4,
   "id": "bf08f3da",
   "metadata": {},
   "outputs": [
    {
     "name": "stderr",
     "output_type": "stream",
     "text": [
      "C:\\Users\\Emre\\anaconda3\\lib\\site-packages\\sklearn\\metrics\\_classification.py:1318: UndefinedMetricWarning: Precision is ill-defined and being set to 0.0 due to no predicted samples. Use `zero_division` parameter to control this behavior.\n",
      "  _warn_prf(average, modifier, msg_start, len(result))\n"
     ]
    }
   ],
   "source": [
    "# Measures the metrics for the null model\n",
    "from sklearn.metrics import accuracy_score, precision_score, recall_score, f1_score, roc_auc_score\n",
    "\n",
    "accuracy_scores = accuracy_score(Y, null_Y)\n",
    "precision_scores = precision_score(Y, null_Y)\n",
    "recall_scores = recall_score(Y, null_Y)\n",
    "f1_scores = f1_score(Y, null_Y)"
   ]
  },
  {
   "cell_type": "code",
   "execution_count": 5,
   "id": "f3b3e9b1",
   "metadata": {},
   "outputs": [
    {
     "name": "stdout",
     "output_type": "stream",
     "text": [
      "Mean Accuracy: 0.9820 (±0.0000)\n",
      "Mean Precision: 0.0000 (±0.0000)\n",
      "Mean Recall: 0.0000 (±0.0000)\n",
      "Mean F1 Score: 0.0000 (±0.0000)\n"
     ]
    }
   ],
   "source": [
    "# Calculate the mean and standard deviation of the evaluation metrics across all folds\n",
    "print(f\"Mean Accuracy: {np.mean(accuracy_scores):.4f} (±{np.std(accuracy_scores):.4f})\")\n",
    "print(f\"Mean Precision: {np.mean(precision_scores):.4f} (±{np.std(precision_scores):.4f})\")\n",
    "print(f\"Mean Recall: {np.mean(recall_scores):.4f} (±{np.std(recall_scores):.4f})\")\n",
    "print(f\"Mean F1 Score: {np.mean(f1_scores):.4f} (±{np.std(f1_scores):.4f})\")"
   ]
  },
  {
   "cell_type": "code",
   "execution_count": null,
   "id": "ade24ecb",
   "metadata": {},
   "outputs": [],
   "source": []
  }
 ],
 "metadata": {
  "kernelspec": {
   "display_name": "Python 3 (ipykernel)",
   "language": "python",
   "name": "python3"
  },
  "language_info": {
   "codemirror_mode": {
    "name": "ipython",
    "version": 3
   },
   "file_extension": ".py",
   "mimetype": "text/x-python",
   "name": "python",
   "nbconvert_exporter": "python",
   "pygments_lexer": "ipython3",
   "version": "3.9.12"
  }
 },
 "nbformat": 4,
 "nbformat_minor": 5
}
